{
 "cells": [
  {
   "cell_type": "code",
   "execution_count": 2,
   "id": "referenced-kingston",
   "metadata": {},
   "outputs": [],
   "source": [
    "from Pegasus.api import *"
   ]
  },
  {
   "cell_type": "code",
   "execution_count": 3,
   "id": "expensive-department",
   "metadata": {},
   "outputs": [],
   "source": [
    "# not required. Just to view output from certain tools.\n",
    "from pathlib import Path\n",
    "\n",
    "import logging\n",
    "\n",
    "logging.basicConfig(level=logging.DEBUG)"
   ]
  },
  {
   "cell_type": "code",
   "execution_count": 4,
   "id": "official-symbol",
   "metadata": {},
   "outputs": [],
   "source": [
    "\n",
    "# output file to be generated\n",
    "output_file = File(\"stdout.txt\")\n",
    "\n",
    "# executable job\n",
    "tc = TransformationCatalog()\n",
    "echo =  Transformation(\n",
    "        \"echo\",\n",
    "        site=\"condorpool\",\n",
    "        pfn=\"/bin/echo\",\n",
    "        is_stageable=False,\n",
    "        arch=Arch.X86_64, #optional\n",
    "        os_type=OS.LINUX\n",
    ")\n",
    "\n",
    "tc.add_transformations(echo)\n",
    "tc.write()"
   ]
  },
  {
   "cell_type": "code",
   "execution_count": 5,
   "id": "opened-margin",
   "metadata": {},
   "outputs": [
    {
     "data": {
      "text/plain": [
       "<Pegasus.api.workflow.Workflow at 0x7f69b03a7d68>"
      ]
     },
     "execution_count": 5,
     "metadata": {},
     "output_type": "execute_result"
    }
   ],
   "source": [
    "# creating workflow 1 \n",
    "wf = Workflow(\"process\")\n",
    "\n",
    "echo_job = Job(echo)\\\n",
    "            .add_args(\"hello world\")\\\n",
    "            .set_stdout(output_file)\n",
    "    \n",
    "\n",
    "wf.add_jobs(echo_job)\n"
   ]
  },
  {
   "cell_type": "code",
   "execution_count": 6,
   "id": "ruled-opportunity",
   "metadata": {},
   "outputs": [
    {
     "name": "stderr",
     "output_type": "stream",
     "text": [
      "\n",
      "################\n",
      "# pegasus-plan #\n",
      "################\n",
      "2021.01.28 17:15:51.300 UTC:\n",
      "2021.01.28 17:15:51.305 UTC:   -----------------------------------------------------------------------\n",
      "2021.01.28 17:15:51.312 UTC:   File for submitting this DAG to HTCondor           : process-0.dag.condor.sub\n",
      "2021.01.28 17:15:51.317 UTC:   Log of DAGMan debugging messages                 : process-0.dag.dagman.out\n",
      "2021.01.28 17:15:51.323 UTC:   Log of HTCondor library output                     : process-0.dag.lib.out\n",
      "2021.01.28 17:15:51.329 UTC:   Log of HTCondor library error messages             : process-0.dag.lib.err\n",
      "2021.01.28 17:15:51.335 UTC:   Log of the life of condor_dagman itself          : process-0.dag.dagman.log\n",
      "2021.01.28 17:15:51.340 UTC:\n",
      "2021.01.28 17:15:51.346 UTC:   -no_submit given, not submitting DAG to HTCondor.  You can do this with:\n",
      "2021.01.28 17:15:51.356 UTC:   -----------------------------------------------------------------------\n",
      "2021.01.28 17:15:53.719 UTC:   Your database is compatible with Pegasus version: 5.1.0dev\n",
      "2021.01.28 17:15:58.405 UTC:   Created Pegasus database in: sqlite:////home/scitech/shared-data/scitech/pegasus/process/run0001/process-0.replicas.db\n",
      "2021.01.28 17:15:58.410 UTC:   Your database is compatible with Pegasus version: 5.1.0dev\n",
      "2021.01.28 17:15:58.507 UTC:   Output replica catalog set to jdbc:sqlite:/home/scitech/shared-data/scitech/pegasus/process/run0001/process-0.replicas.db\n",
      "[WARNING]  Submitting to condor process-0.dag.condor.sub\n",
      "2021.01.28 17:16:00.365 UTC:   Time taken to execute is 11.656 seconds\n",
      "\n",
      "Your workflow has been started and is running in the base directory:\n",
      "\n",
      "/home/scitech/shared-data/scitech/pegasus/process/run0001\n",
      "\n",
      "*** To monitor the workflow you can run ***\n",
      "\n",
      "pegasus-status -l /home/scitech/shared-data/scitech/pegasus/process/run0001\n",
      "\n",
      "\n",
      "*** To remove your workflow run ***\n",
      "\n",
      "pegasus-remove /home/scitech/shared-data/scitech/pegasus/process/run0001\n",
      "\n"
     ]
    },
    {
     "name": "stdout",
     "output_type": "stream",
     "text": [
      "[\u001b[1;32m####################################\u001b[0m] 100.0% ..Success (\u001b[1;32mCompleted: 6\u001b[0m, \u001b[1;33mQueued: 0\u001b[0m, \u001b[1;36mRunning: 0\u001b[0m, \u001b[1;31mFailed: 0\u001b[0m)\n"
     ]
    }
   ],
   "source": [
    "# execute workflow\n",
    "try:\n",
    "    wf.plan(submit=True)\\\n",
    "        .wait()\n",
    "except PegasusClientError as e:\n",
    "    print(e)"
   ]
  },
  {
   "cell_type": "code",
   "execution_count": 7,
   "id": "encouraging-public",
   "metadata": {},
   "outputs": [
    {
     "name": "stdout",
     "output_type": "stream",
     "text": [
      "x-pegasus: {apiLang: python, createdBy: scitech, createdOn: '01-28-21T09:15:45Z'}\r\n",
      "pegasus: '5.0'\r\n",
      "name: process\r\n",
      "jobs:\r\n",
      "- type: job\r\n",
      "  name: echo\r\n",
      "  id: ID0000001\r\n",
      "  stdout: stdout.txt\r\n",
      "  arguments: [hello world]\r\n",
      "  uses:\r\n",
      "  - {lfn: stdout.txt, type: output, stageOut: true, registerReplica: true}\r\n",
      "jobDependencies: []\r\n"
     ]
    }
   ],
   "source": [
    "!cat workflow.yml"
   ]
  },
  {
   "cell_type": "code",
   "execution_count": null,
   "id": "corrected-findings",
   "metadata": {},
   "outputs": [],
   "source": []
  }
 ],
 "metadata": {
  "kernelspec": {
   "display_name": "Python 3",
   "language": "python",
   "name": "python3"
  },
  "language_info": {
   "codemirror_mode": {
    "name": "ipython",
    "version": 3
   },
   "file_extension": ".py",
   "mimetype": "text/x-python",
   "name": "python",
   "nbconvert_exporter": "python",
   "pygments_lexer": "ipython3",
   "version": "3.6.8"
  }
 },
 "nbformat": 4,
 "nbformat_minor": 5
}
