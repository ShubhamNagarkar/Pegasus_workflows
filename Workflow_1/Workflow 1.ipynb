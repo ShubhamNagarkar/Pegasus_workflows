{
 "cells": [
  {
   "cell_type": "code",
   "execution_count": 10,
   "id": "referenced-kingston",
   "metadata": {},
   "outputs": [],
   "source": [
    "from Pegasus.api import *"
   ]
  },
  {
   "cell_type": "code",
   "execution_count": 11,
   "id": "expensive-department",
   "metadata": {},
   "outputs": [],
   "source": [
    "# not required. Just to view output from certain tools.\n",
    "from pathlib import Path\n",
    "\n",
    "import logging\n",
    "\n",
    "logging.basicConfig(level=logging.DEBUG)"
   ]
  },
  {
   "cell_type": "code",
   "execution_count": 12,
   "id": "official-symbol",
   "metadata": {},
   "outputs": [],
   "source": [
    "\n",
    "# output file to be generated\n",
    "output_file = File(\"stdout.txt\")\n",
    "\n",
    "# executable job\n",
    "tc = TransformationCatalog()\n",
    "echo =  Transformation(\n",
    "        \"echo\",\n",
    "        site=\"condorpool\",\n",
    "        pfn=\"/home/scitech/shared-data/hello_world.sh\",\n",
    "        is_stageable=False,\n",
    "        arch=Arch.X86_64,\n",
    "        os_type=OS.LINUX\n",
    ")\n",
    "\n",
    "tc.add_transformations(echo)\n",
    "tc.write()"
   ]
  },
  {
   "cell_type": "code",
   "execution_count": 13,
   "id": "opened-margin",
   "metadata": {},
   "outputs": [
    {
     "data": {
      "text/plain": [
       "<Pegasus.api.workflow.Workflow at 0x7fd108043358>"
      ]
     },
     "execution_count": 13,
     "metadata": {},
     "output_type": "execute_result"
    }
   ],
   "source": [
    "# creating workflow 1 \n",
    "wf = Workflow(\"process\")\n",
    "\n",
    "echo_job = Job(echo)\\\n",
    "            .add_args(\"-a\", \"echo\",\"-o\", output_file)\\\n",
    "            .add_outputs(output_file)\n",
    "\n",
    "wf.add_jobs(echo_job)\n"
   ]
  },
  {
   "cell_type": "code",
   "execution_count": 14,
   "id": "ruled-opportunity",
   "metadata": {},
   "outputs": [
    {
     "name": "stderr",
     "output_type": "stream",
     "text": [
      "\n",
      "################\n",
      "# pegasus-plan #\n",
      "################\n",
      "2021.01.26 13:39:00.556 UTC:\n",
      "2021.01.26 13:39:00.562 UTC:   -----------------------------------------------------------------------\n",
      "2021.01.26 13:39:00.567 UTC:   File for submitting this DAG to HTCondor           : process-0.dag.condor.sub\n",
      "2021.01.26 13:39:00.573 UTC:   Log of DAGMan debugging messages                 : process-0.dag.dagman.out\n",
      "2021.01.26 13:39:00.578 UTC:   Log of HTCondor library output                     : process-0.dag.lib.out\n",
      "2021.01.26 13:39:00.584 UTC:   Log of HTCondor library error messages             : process-0.dag.lib.err\n",
      "2021.01.26 13:39:00.590 UTC:   Log of the life of condor_dagman itself          : process-0.dag.dagman.log\n",
      "2021.01.26 13:39:00.595 UTC:\n",
      "2021.01.26 13:39:00.600 UTC:   -no_submit given, not submitting DAG to HTCondor.  You can do this with:\n",
      "2021.01.26 13:39:00.611 UTC:   -----------------------------------------------------------------------\n",
      "2021.01.26 13:39:01.528 UTC:   Your database is compatible with Pegasus version: 5.1.0dev\n",
      "2021.01.26 13:39:06.167 UTC:   Created Pegasus database in: sqlite:////home/scitech/shared-data/scitech/pegasus/process/run0001/process-0.replicas.db\n",
      "2021.01.26 13:39:06.173 UTC:   Your database is compatible with Pegasus version: 5.1.0dev\n",
      "2021.01.26 13:39:06.241 UTC:   Output replica catalog set to jdbc:sqlite:/home/scitech/shared-data/scitech/pegasus/process/run0001/process-0.replicas.db\n",
      "[WARNING]  Submitting to condor process-0.dag.condor.sub\n",
      "2021.01.26 13:39:07.572 UTC:   Time taken to execute is 7.148 seconds\n",
      "\n",
      "Your workflow has been started and is running in the base directory:\n",
      "\n",
      "/home/scitech/shared-data/scitech/pegasus/process/run0001\n",
      "\n",
      "*** To monitor the workflow you can run ***\n",
      "\n",
      "pegasus-status -l /home/scitech/shared-data/scitech/pegasus/process/run0001\n",
      "\n",
      "\n",
      "*** To remove your workflow run ***\n",
      "\n",
      "pegasus-remove /home/scitech/shared-data/scitech/pegasus/process/run0001\n",
      "\n"
     ]
    },
    {
     "name": "stdout",
     "output_type": "stream",
     "text": [
      "[\u001b[1;32m######\u001b[0m------------------------------]  16.7% ..Running (\u001b[1;32mCompleted: 1\u001b[0m, \u001b[1;33mQueued: 0\u001b[0m, \u001b[1;36mRunning: 1\u001b[0m, \u001b[1;31mFailed: 0\u001b[0m)\n",
      "Cancelling Client.wait(). Your workflow is still running and can be monitored with pegasus-status\n"
     ]
    }
   ],
   "source": [
    "# execute workflow\n",
    "try:\n",
    "    wf.plan(submit=True)\\\n",
    "        .wait()\n",
    "except PegasusClientError as e:\n",
    "    print(e)"
   ]
  },
  {
   "cell_type": "code",
   "execution_count": 9,
   "id": "encouraging-public",
   "metadata": {},
   "outputs": [
    {
     "name": "stdout",
     "output_type": "stream",
     "text": [
      "/home/scitech/shared-data\r\n"
     ]
    }
   ],
   "source": []
  },
  {
   "cell_type": "code",
   "execution_count": null,
   "id": "corrected-findings",
   "metadata": {},
   "outputs": [],
   "source": []
  }
 ],
 "metadata": {
  "kernelspec": {
   "display_name": "Python 3",
   "language": "python",
   "name": "python3"
  },
  "language_info": {
   "codemirror_mode": {
    "name": "ipython",
    "version": 3
   },
   "file_extension": ".py",
   "mimetype": "text/x-python",
   "name": "python",
   "nbconvert_exporter": "python",
   "pygments_lexer": "ipython3",
   "version": "3.6.8"
  }
 },
 "nbformat": 4,
 "nbformat_minor": 5
}
