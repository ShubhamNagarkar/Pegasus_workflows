{
 "cells": [
  {
   "cell_type": "code",
   "execution_count": 1,
   "id": "precise-brunei",
   "metadata": {},
   "outputs": [],
   "source": [
    "from Pegasus.api import *"
   ]
  },
  {
   "cell_type": "code",
   "execution_count": 2,
   "id": "sound-segment",
   "metadata": {},
   "outputs": [],
   "source": [
    "# not required. Just to view output from certain tools.\n",
    "from pathlib import Path\n",
    "import logging\n",
    "\n",
    "logging.basicConfig(level=logging.DEBUG)"
   ]
  },
  {
   "cell_type": "code",
   "execution_count": 3,
   "id": "initial-nerve",
   "metadata": {},
   "outputs": [],
   "source": [
    "nums1 = File(\"nums1.txt\")\n",
    "nums2 = File(\"nums2.txt\")\n",
    "nums3 = File(\"nums3.txt\")\n",
    "nums4 = File(\"nums4.txt\")\n",
    "\n",
    "rc = ReplicaCatalog()\\\n",
    "    .add_replica(\"local\", nums1, Path(\".\").resolve() / \"nums1.txt\")\\\n",
    "    .add_replica(\"local\", nums2, Path(\".\").resolve() / \"nums2.txt\")\\\n",
    "    .add_replica(\"local\", nums3, Path(\".\").resolve() / \"nums3.txt\")\\\n",
    "    .add_replica(\"local\", nums4, Path(\".\").resolve() / \"nums4.txt\")\\\n",
    "    .write()"
   ]
  },
  {
   "cell_type": "code",
   "execution_count": 4,
   "id": "architectural-reservation",
   "metadata": {},
   "outputs": [],
   "source": [
    "tc =  TransformationCatalog()\n",
    "\n",
    "separate = Transformation(\n",
    "            \"separate\",\n",
    "            site=\"local\",\n",
    "            pfn=\"/home/scitech/shared-data/separate.py\",\n",
    "            is_stageable=True,\n",
    "            arch=Arch.X86_64,\n",
    "            os_type=OS.LINUX\n",
    ")\n",
    "\n",
    "count = Transformation(\n",
    "            \"count\",\n",
    "            site=\"local\",\n",
    "            pfn=\"/home/scitech/shared-data/count.py\",\n",
    "            is_stageable=True,\n",
    "            arch=Arch.X86_64,\n",
    "            os_type=OS.LINUX\n",
    ")\n",
    "\n",
    "tar = Transformation(\n",
    "            \"tar\",\n",
    "            site=\"condorpool\",\n",
    "            pfn=\"/bin/tar\",\n",
    "            is_stageable=False,\n",
    "            arch=Arch.X86_64,\n",
    "            os_type=OS.LINUX\n",
    ")\n",
    "\n",
    "tc.add_transformations(separate, count, tar)\n",
    "tc.write()"
   ]
  },
  {
   "cell_type": "code",
   "execution_count": 5,
   "id": "significant-blast",
   "metadata": {},
   "outputs": [
    {
     "data": {
      "text/plain": [
       "<Pegasus.api.workflow.Workflow at 0x7faaf77af3c8>"
      ]
     },
     "execution_count": 5,
     "metadata": {},
     "output_type": "execute_result"
    }
   ],
   "source": [
    "wf = Workflow(\"diamomnd\")\n",
    "\n",
    "odd_nums = File(\"odd_nums.txt\")\n",
    "even_nums = File(\"even_nums.txt\")\n",
    "\n",
    "job_separate = Job(separate)\\\n",
    "                .add_inputs(nums1, nums2, nums3, nums4)\\\n",
    "                .add_outputs(odd_nums, even_nums)\n",
    "\n",
    "odd_count = File(\"odd_count.txt\")\n",
    "job_count_odd = Job(count)\\\n",
    "                .add_args(odd_nums, odd_count)\\\n",
    "                .add_inputs(odd_nums)\\\n",
    "                .add_outputs(odd_count)\n",
    "\n",
    "even_count = File(\"even_count.txt\")\n",
    "job_count_even = Job(count)\\\n",
    "                .add_args(even_nums, even_count)\\\n",
    "                .add_inputs(even_nums)\\\n",
    "                .add_outputs(even_count)\n",
    "\n",
    "tar_result = File(\"result.tar.gz\")\n",
    "job_tar = Job(tar)\\\n",
    "          .add_args(\"-cvf\", tar_result, even_count, odd_count)\\\n",
    "          .add_inputs(even_count, odd_count)\\\n",
    "          .add_outputs(tar_result)\n",
    "            \n",
    "wf.add_jobs(job_separate, job_count_odd, job_count_even, job_tar)"
   ]
  },
  {
   "cell_type": "code",
   "execution_count": 6,
   "id": "proud-magazine",
   "metadata": {},
   "outputs": [
    {
     "name": "stderr",
     "output_type": "stream",
     "text": [
      "\n",
      "################\n",
      "# pegasus-plan #\n",
      "################\n",
      "2021.02.03 02:35:06.244 UTC:\n",
      "2021.02.03 02:35:06.250 UTC:   -----------------------------------------------------------------------\n",
      "2021.02.03 02:35:06.255 UTC:   File for submitting this DAG to HTCondor           : diamomnd-0.dag.condor.sub\n",
      "2021.02.03 02:35:06.260 UTC:   Log of DAGMan debugging messages                 : diamomnd-0.dag.dagman.out\n",
      "2021.02.03 02:35:06.266 UTC:   Log of HTCondor library output                     : diamomnd-0.dag.lib.out\n",
      "2021.02.03 02:35:06.271 UTC:   Log of HTCondor library error messages             : diamomnd-0.dag.lib.err\n",
      "2021.02.03 02:35:06.277 UTC:   Log of the life of condor_dagman itself          : diamomnd-0.dag.dagman.log\n",
      "2021.02.03 02:35:06.282 UTC:\n",
      "2021.02.03 02:35:06.287 UTC:   -no_submit given, not submitting DAG to HTCondor.  You can do this with:\n",
      "2021.02.03 02:35:06.298 UTC:   -----------------------------------------------------------------------\n",
      "2021.02.03 02:35:08.754 UTC:   Your database is compatible with Pegasus version: 5.1.0dev\n",
      "2021.02.03 02:35:13.421 UTC:   Created Pegasus database in: sqlite:////home/scitech/shared-data/scitech/pegasus/diamomnd/run0001/diamomnd-0.replicas.db\n",
      "2021.02.03 02:35:13.426 UTC:   Your database is compatible with Pegasus version: 5.1.0dev\n",
      "2021.02.03 02:35:13.498 UTC:   Output replica catalog set to jdbc:sqlite:/home/scitech/shared-data/scitech/pegasus/diamomnd/run0001/diamomnd-0.replicas.db\n",
      "[WARNING]  Submitting to condor diamomnd-0.dag.condor.sub\n",
      "2021.02.03 02:35:14.955 UTC:   Time taken to execute is 12.775 seconds\n",
      "\n",
      "Your workflow has been started and is running in the base directory:\n",
      "\n",
      "/home/scitech/shared-data/scitech/pegasus/diamomnd/run0001\n",
      "\n",
      "*** To monitor the workflow you can run ***\n",
      "\n",
      "pegasus-status -l /home/scitech/shared-data/scitech/pegasus/diamomnd/run0001\n",
      "\n",
      "\n",
      "*** To remove your workflow run ***\n",
      "\n",
      "pegasus-remove /home/scitech/shared-data/scitech/pegasus/diamomnd/run0001\n",
      "\n"
     ]
    },
    {
     "name": "stdout",
     "output_type": "stream",
     "text": [
      "[\u001b[1;32m####################################\u001b[0m] 100.0% ..Success (\u001b[1;32mCompleted: 19\u001b[0m, \u001b[1;33mQueued: 0\u001b[0m, \u001b[1;36mRunning: 0\u001b[0m, \u001b[1;31mFailed: 0\u001b[0m)\n"
     ]
    }
   ],
   "source": [
    "try:\n",
    "    wf.plan(submit=True)\\\n",
    "        .wait()\n",
    "except PegasusClientError as e:\n",
    "    print(e)"
   ]
  },
  {
   "cell_type": "code",
   "execution_count": null,
   "id": "common-million",
   "metadata": {},
   "outputs": [],
   "source": []
  }
 ],
 "metadata": {
  "kernelspec": {
   "display_name": "Python 3",
   "language": "python",
   "name": "python3"
  },
  "language_info": {
   "codemirror_mode": {
    "name": "ipython",
    "version": 3
   },
   "file_extension": ".py",
   "mimetype": "text/x-python",
   "name": "python",
   "nbconvert_exporter": "python",
   "pygments_lexer": "ipython3",
   "version": "3.6.8"
  }
 },
 "nbformat": 4,
 "nbformat_minor": 5
}
