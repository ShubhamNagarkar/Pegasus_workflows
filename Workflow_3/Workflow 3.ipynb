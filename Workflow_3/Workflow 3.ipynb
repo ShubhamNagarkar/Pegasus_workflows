{
 "cells": [
  {
   "cell_type": "code",
   "execution_count": 1,
   "id": "precise-brunei",
   "metadata": {},
   "outputs": [],
   "source": [
    "from Pegasus.api import *"
   ]
  },
  {
   "cell_type": "code",
   "execution_count": 2,
   "id": "sound-segment",
   "metadata": {},
   "outputs": [],
   "source": [
    "# not required. Just to view output from certain tools.\n",
    "from pathlib import Path\n",
    "import logging\n",
    "\n",
    "logging.basicConfig(level=logging.DEBUG)"
   ]
  },
  {
   "cell_type": "code",
   "execution_count": 3,
   "id": "initial-nerve",
   "metadata": {},
   "outputs": [],
   "source": [
    "nums1 = File(\"nums1.txt\")\n",
    "nums2 = File(\"nums2.txt\")\n",
    "nums3 = File(\"nums3.txt\")\n",
    "nums4 = File(\"nums4.txt\")\n",
    "\n",
    "rc = ReplicaCatalog()\\\n",
    "    .add_replica(\"local\", nums1, Path(\".\").resolve() / \"nums1\")\\\n",
    "    .add_replica(\"local\", nums2, Path(\".\").resolve() / \"nums2\")\\\n",
    "    .add_replica(\"local\", nums3, Path(\".\").resolve() / \"nums3\")\\\n",
    "    .add_replica(\"local\", nums4, Path(\".\").resolve() / \"nums4\")\\\n",
    "    .write()"
   ]
  },
  {
   "cell_type": "code",
   "execution_count": 9,
   "id": "architectural-reservation",
   "metadata": {},
   "outputs": [],
   "source": [
    "tc =  TransformationCatalog()\n",
    "\n",
    "separate = Transformation(\n",
    "            \"separate\",\n",
    "            site=\"local\",\n",
    "            pfn=\"/home/scitech/shared-data/separate\",\n",
    "            is_stageable=True,\n",
    "            arch=Arch.X86_64,\n",
    "            os_type=OS.LINUX\n",
    ")\n",
    "\n",
    "count = Transformation(\n",
    "            \"count\",\n",
    "            site=\"local\",\n",
    "            pfn=\"/home/scitech/shared-data/count\",\n",
    "            is_stageable=True,\n",
    "            arch=Arch.X86_64,\n",
    "            os_type=OS.LINUX\n",
    ")\n",
    "\n",
    "tar = Transformation(\n",
    "            \"tar\",\n",
    "            site=\"condorpool\",\n",
    "            pfn=\"/bin/tar\",\n",
    "            is_stageable=False,\n",
    "            arch=Arch.X86_64,\n",
    "            os_type=OS.LINUX\n",
    ")\n",
    "\n",
    "tc.add_transformations(separate, count, tar)\n",
    "tc.write()"
   ]
  },
  {
   "cell_type": "code",
   "execution_count": 12,
   "id": "significant-blast",
   "metadata": {},
   "outputs": [
    {
     "data": {
      "text/plain": [
       "<Pegasus.api.workflow.Workflow at 0x7fd02401ab38>"
      ]
     },
     "execution_count": 12,
     "metadata": {},
     "output_type": "execute_result"
    }
   ],
   "source": [
    "wf = Workflow(\"diamomnd\")\n",
    "\n",
    "odd_nums = File(\"odd_nums.txt\")\n",
    "even_nums = File(\"even_nums.txt\")\n",
    "\n",
    "job_separate = Job(separate)\\\n",
    "                .add_args(\"-a\", \"separate\", \"-T\", \"3\", \"-i\", nums1,nums2, nums3, nums4, \"-o\", odd_nums, even_nums)\\\n",
    "                .add_inputs(nums1, nums2, nums3, nums4)\\\n",
    "                .add_outputs(odd_nums, even_nums)\n",
    "\n",
    "odd_count = File(\"odd_count.txt\")\n",
    "job_count_odd = Job(count)\\\n",
    "                .add_args(\"-a\", \"count\", \"-T\", \"3\", \"-i\", odd_nums, \"-o\", odd_count)\\\n",
    "                .add_inputs(odd_nums)\\\n",
    "                .add_outputs(odd_count)\n",
    "\n",
    "even_count = File(\"even_count.txt\")\n",
    "job_count_even = Job(count)\\\n",
    "                .add_args(\"-a\", \"count\", \"-T\", \"3\", \"-i\", even_nums, \"-o\", even_count)\\\n",
    "                .add_inputs(even_nums)\\\n",
    "                .add_outputs(even_count)\n",
    "\n",
    "tar_result = File(\"result.tar.gz\")\n",
    "job_tar = Job(tar)\\\n",
    "          .add_args(\"-a\", \"count\", \"-T\", \"3\", \"-i\", even_count, odd_count, \"-o\", tar_result)\\\n",
    "          .add_inputs(even_count, odd_count)\\\n",
    "          .add_outputs(tar_result)\n",
    "            \n",
    "wf.add_jobs(job_separate, job_count_odd, job_count_even, job_tar)"
   ]
  },
  {
   "cell_type": "code",
   "execution_count": null,
   "id": "proud-magazine",
   "metadata": {},
   "outputs": [],
   "source": [
    "try:\n",
    "    wf.plan(submit=True)\\\n",
    "        .wait()\n",
    "except PegasusClientError as e:\n",
    "    print(e)"
   ]
  }
 ],
 "metadata": {
  "kernelspec": {
   "display_name": "Python 3",
   "language": "python",
   "name": "python3"
  },
  "language_info": {
   "codemirror_mode": {
    "name": "ipython",
    "version": 3
   },
   "file_extension": ".py",
   "mimetype": "text/x-python",
   "name": "python",
   "nbconvert_exporter": "python",
   "pygments_lexer": "ipython3",
   "version": "3.6.8"
  }
 },
 "nbformat": 4,
 "nbformat_minor": 5
}
