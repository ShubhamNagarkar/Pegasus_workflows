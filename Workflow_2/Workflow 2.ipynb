{
 "cells": [
  {
   "cell_type": "code",
   "execution_count": 1,
   "id": "together-delicious",
   "metadata": {},
   "outputs": [],
   "source": [
    "from Pegasus.api import *"
   ]
  },
  {
   "cell_type": "code",
   "execution_count": 2,
   "id": "civilian-madrid",
   "metadata": {},
   "outputs": [],
   "source": [
    "# not required. Just to view output from certain tools.\n",
    "from pathlib import Path\n",
    "import logging\n",
    "\n",
    "logging.basicConfig(level=logging.DEBUG)"
   ]
  },
  {
   "cell_type": "code",
   "execution_count": 3,
   "id": "behavioral-hawaiian",
   "metadata": {},
   "outputs": [],
   "source": [
    "# creating input file number.txt \n",
    "with open(\"number.txt\", \"w\") as f:\n",
    "    f.write(\"10\")\n",
    "\n",
    "number = File(\"number.txt\").add_metadata(creator=\"shubham\")"
   ]
  },
  {
   "cell_type": "code",
   "execution_count": 8,
   "id": "educational-pressing",
   "metadata": {},
   "outputs": [],
   "source": [
    "rc = ReplicaCatalog()\\\n",
    "    .add_replica(\"local\", number, Path(\".\").resolve() / \"number\")\\\n",
    "    .write()\n",
    "\n",
    "tc = TransformationCatalog()\n",
    "\n",
    "increment = Transformation(\n",
    "                \"increment\",\n",
    "                site=\"local\",\n",
    "                pfn=\"/home/scitech/shared-data/increment\",\n",
    "                is_stageable=True,\n",
    "                arch=Arch.X86_64,\n",
    "                os_type=OS.LINUX\n",
    ")\n",
    "\n",
    "tc.add_transformations(increment)\n",
    "tc.write()"
   ]
  },
  {
   "cell_type": "code",
   "execution_count": 9,
   "id": "clear-directory",
   "metadata": {},
   "outputs": [
    {
     "data": {
      "text/plain": [
       "<Pegasus.api.workflow.Workflow at 0x7f1519a8c748>"
      ]
     },
     "execution_count": 9,
     "metadata": {},
     "output_type": "execute_result"
    }
   ],
   "source": [
    "# create workflow\n",
    "\n",
    "wf = Workflow(\"Pipeline\")\n",
    "\n",
    "result = File(\"result.txt\")\n",
    "\n",
    "job_increment = Job(increment)\\\n",
    "                .add_args(\"-a\", \"increment\", \"-T\", \"3\", \"-i\", number, \"-o\", result)\\\n",
    "                .add_inputs(number)\\\n",
    "                .add_outputs(result)\n",
    "wf.add_jobs(job_increment)"
   ]
  },
  {
   "cell_type": "code",
   "execution_count": 10,
   "id": "funded-poison",
   "metadata": {},
   "outputs": [
    {
     "name": "stderr",
     "output_type": "stream",
     "text": [
      "\n",
      "################\n",
      "# pegasus-plan #\n",
      "################\n",
      "2021.01.26 17:20:47.106 UTC:\n",
      "2021.01.26 17:20:47.112 UTC:   -----------------------------------------------------------------------\n",
      "2021.01.26 17:20:47.117 UTC:   File for submitting this DAG to HTCondor           : Pipeline-0.dag.condor.sub\n",
      "2021.01.26 17:20:47.122 UTC:   Log of DAGMan debugging messages                 : Pipeline-0.dag.dagman.out\n",
      "2021.01.26 17:20:47.131 UTC:   Log of HTCondor library output                     : Pipeline-0.dag.lib.out\n",
      "2021.01.26 17:20:47.137 UTC:   Log of HTCondor library error messages             : Pipeline-0.dag.lib.err\n",
      "2021.01.26 17:20:47.142 UTC:   Log of the life of condor_dagman itself          : Pipeline-0.dag.dagman.log\n",
      "2021.01.26 17:20:47.147 UTC:\n",
      "2021.01.26 17:20:47.153 UTC:   -no_submit given, not submitting DAG to HTCondor.  You can do this with:\n",
      "2021.01.26 17:20:47.163 UTC:   -----------------------------------------------------------------------\n",
      "2021.01.26 17:20:48.047 UTC:   Your database is compatible with Pegasus version: 5.1.0dev\n",
      "2021.01.26 17:20:52.546 UTC:   Created Pegasus database in: sqlite:////home/scitech/shared-data/scitech/pegasus/Pipeline/run0001/Pipeline-0.replicas.db\n",
      "2021.01.26 17:20:52.551 UTC:   Your database is compatible with Pegasus version: 5.1.0dev\n",
      "2021.01.26 17:20:52.619 UTC:   Output replica catalog set to jdbc:sqlite:/home/scitech/shared-data/scitech/pegasus/Pipeline/run0001/Pipeline-0.replicas.db\n",
      "[WARNING]  Submitting to condor Pipeline-0.dag.condor.sub\n",
      "2021.01.26 17:20:54.312 UTC:   Time taken to execute is 6.973 seconds\n",
      "\n",
      "Your workflow has been started and is running in the base directory:\n",
      "\n",
      "/home/scitech/shared-data/scitech/pegasus/Pipeline/run0001\n",
      "\n",
      "*** To monitor the workflow you can run ***\n",
      "\n",
      "pegasus-status -l /home/scitech/shared-data/scitech/pegasus/Pipeline/run0001\n",
      "\n",
      "\n",
      "*** To remove your workflow run ***\n",
      "\n",
      "pegasus-remove /home/scitech/shared-data/scitech/pegasus/Pipeline/run0001\n",
      "\n"
     ]
    },
    {
     "name": "stdout",
     "output_type": "stream",
     "text": [
      "[\u001b[1;32m####\u001b[0m--------------------------------]  11.1% ..Running (\u001b[1;32mCompleted: 1\u001b[0m, \u001b[1;33mQueued: 0\u001b[0m, \u001b[1;36mRunning: 2\u001b[0m, \u001b[1;31mFailed: 0\u001b[0m)\n",
      "Cancelling Client.wait(). Your workflow is still running and can be monitored with pegasus-status\n"
     ]
    }
   ],
   "source": [
    "try:\n",
    "    wf.plan(submit=True)\\\n",
    "        .wait()\n",
    "except PegasusClientError as e:\n",
    "    print(e)\n"
   ]
  },
  {
   "cell_type": "code",
   "execution_count": null,
   "id": "recorded-suffering",
   "metadata": {},
   "outputs": [],
   "source": []
  }
 ],
 "metadata": {
  "kernelspec": {
   "display_name": "Python 3",
   "language": "python",
   "name": "python3"
  },
  "language_info": {
   "codemirror_mode": {
    "name": "ipython",
    "version": 3
   },
   "file_extension": ".py",
   "mimetype": "text/x-python",
   "name": "python",
   "nbconvert_exporter": "python",
   "pygments_lexer": "ipython3",
   "version": "3.6.8"
  }
 },
 "nbformat": 4,
 "nbformat_minor": 5
}
