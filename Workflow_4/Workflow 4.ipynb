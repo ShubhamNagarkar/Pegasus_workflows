{
 "cells": [
  {
   "cell_type": "code",
   "execution_count": 13,
   "id": "honest-missouri",
   "metadata": {},
   "outputs": [],
   "source": [
    "from Pegasus.api import *\n",
    "from pathlib import Path"
   ]
  },
  {
   "cell_type": "code",
   "execution_count": 14,
   "id": "massive-maria",
   "metadata": {},
   "outputs": [],
   "source": [
    "rc =  ReplicaCatalog()\n",
    "\n",
    "with open(\"msg.txt\", \"w\") as f:\n",
    "    f.write(\" Workflow 4 is almost done.\")\n",
    "\n",
    "msg = File(\"msg.txt\")\n",
    "rc.add_replica(\"local\", msg, Path(\".\").resolve() / \"msg.txt\")\n",
    "rc.write()"
   ]
  },
  {
   "cell_type": "code",
   "execution_count": 15,
   "id": "indie-apache",
   "metadata": {},
   "outputs": [],
   "source": [
    "tc = TransformationCatalog()\n",
    "\n",
    "t_container = Container(\n",
    "            't_container',\n",
    "            Container.DOCKER,\n",
    "            image = \"docker:///slnagark/workflow4:latest\",\n",
    ")\n",
    "\n",
    "thumbsup = Transformation(\n",
    "            \"thumbsup\",\n",
    "            site=\"condorpool\",\n",
    "            pfn=\"/usr/bin/add_thumbs_up.py\",\n",
    "            is_stageable=False,\n",
    "            container=t_container\n",
    ")\n",
    "tc.add_containers(t_container)\n",
    "tc.add_transformations(thumbsup)\n",
    "tc.write()"
   ]
  },
  {
   "cell_type": "code",
   "execution_count": 16,
   "id": "fluid-class",
   "metadata": {},
   "outputs": [
    {
     "data": {
      "text/plain": [
       "<Pegasus.api.workflow.Workflow at 0x7f2cb0915dd8>"
      ]
     },
     "execution_count": 16,
     "metadata": {},
     "output_type": "execute_result"
    }
   ],
   "source": [
    "wf = Workflow(\"process\")\n",
    "\n",
    "result = File(\"result.txt\")\n",
    "\n",
    "job_thumbsup = Job(thumbsup)\\\n",
    "                .add_args('--i',msg, '--o',result)\\\n",
    "                .add_inputs(msg)\\\n",
    "                .add_outputs(result)\n",
    "wf.add_jobs(job_thumbsup)"
   ]
  },
  {
   "cell_type": "code",
   "execution_count": 17,
   "id": "spread-minnesota",
   "metadata": {},
   "outputs": [
    {
     "name": "stderr",
     "output_type": "stream",
     "text": [
      "2021.02.05 01:07:21.128 UTC:\n",
      "2021.02.05 01:07:21.133 UTC:   -----------------------------------------------------------------------\n",
      "2021.02.05 01:07:21.139 UTC:   File for submitting this DAG to HTCondor           : process-0.dag.condor.sub\n",
      "2021.02.05 01:07:21.149 UTC:   Log of DAGMan debugging messages                 : process-0.dag.dagman.out\n",
      "2021.02.05 01:07:21.154 UTC:   Log of HTCondor library output                     : process-0.dag.lib.out\n",
      "2021.02.05 01:07:21.160 UTC:   Log of HTCondor library error messages             : process-0.dag.lib.err\n",
      "2021.02.05 01:07:21.165 UTC:   Log of the life of condor_dagman itself          : process-0.dag.dagman.log\n",
      "2021.02.05 01:07:21.170 UTC:\n",
      "2021.02.05 01:07:21.176 UTC:   -no_submit given, not submitting DAG to HTCondor.  You can do this with:\n",
      "2021.02.05 01:07:21.186 UTC:   -----------------------------------------------------------------------\n",
      "2021.02.05 01:07:22.275 UTC:   Your database is compatible with Pegasus version: 5.1.0dev\n",
      "2021.02.05 01:07:27.735 UTC:   Created Pegasus database in: sqlite:////home/scitech/shared-data/scitech/pegasus/process/run0004/process-0.replicas.db\n",
      "2021.02.05 01:07:27.746 UTC:   Your database is compatible with Pegasus version: 5.1.0dev\n",
      "2021.02.05 01:07:27.818 UTC:   Output replica catalog set to jdbc:sqlite:/home/scitech/shared-data/scitech/pegasus/process/run0004/process-0.replicas.db\n",
      "[WARNING]  Submitting to condor process-0.dag.condor.sub\n",
      "2021.02.05 01:07:28.940 UTC:   Time taken to execute is 10.908 seconds\n"
     ]
    },
    {
     "name": "stdout",
     "output_type": "stream",
     "text": [
      "[\u001b[1;32m####################################\u001b[0m] 100.0% ..Success (\u001b[1;32mCompleted: 8\u001b[0m, \u001b[1;33mQueued: 0\u001b[0m, \u001b[1;36mRunning: 0\u001b[0m, \u001b[1;31mFailed: 0\u001b[0m)\n"
     ]
    }
   ],
   "source": [
    "try:\n",
    "    wf.plan(submit=True)\\\n",
    "        .wait()\n",
    "except PegasusClientError as e:\n",
    "    print(e)"
   ]
  },
  {
   "cell_type": "code",
   "execution_count": null,
   "id": "missing-subject",
   "metadata": {},
   "outputs": [],
   "source": []
  }
 ],
 "metadata": {
  "kernelspec": {
   "display_name": "Python 3",
   "language": "python",
   "name": "python3"
  },
  "language_info": {
   "codemirror_mode": {
    "name": "ipython",
    "version": 3
   },
   "file_extension": ".py",
   "mimetype": "text/x-python",
   "name": "python",
   "nbconvert_exporter": "python",
   "pygments_lexer": "ipython3",
   "version": "3.6.8"
  }
 },
 "nbformat": 4,
 "nbformat_minor": 5
}
